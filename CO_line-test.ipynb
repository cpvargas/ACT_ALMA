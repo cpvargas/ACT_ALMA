{
 "cells": [
  {
   "cell_type": "code",
   "execution_count": 146,
   "id": "23151274",
   "metadata": {},
   "outputs": [],
   "source": [
    "# CO line conversions routines "
   ]
  },
  {
   "cell_type": "code",
   "execution_count": 147,
   "id": "671ff97d",
   "metadata": {},
   "outputs": [],
   "source": [
    "import numpy as np\n",
    "import matplotlib.pyplot as plt\n",
    "from uncertainties import ufloat\n",
    "\n",
    "from astropy.cosmology import FlatLambdaCDM\n",
    "import astropy.units as u\n",
    "\n",
    "from astropy.cosmology import Planck18 as Planck"
   ]
  },
  {
   "cell_type": "code",
   "execution_count": 148,
   "id": "63bf1090",
   "metadata": {},
   "outputs": [],
   "source": [
    "#cosmo = FlatLambdaCDM(H0=67.4 * u.km / u.s / u.Mpc, Tcmb0=2.725 * u.K, Om0=0.315)\n",
    "\n",
    "\n",
    "#cosmo = FlatLambdaCDM(H0=71 * u.km / u.s / u.Mpc, Tcmb0=2.725 * u.K, Om0=0.27)\n",
    "\n",
    "\n",
    "cosmo = FlatLambdaCDM(H0=71 * u.km / u.s / u.Mpc, Tcmb0=2.725 * u.K, Om0=0.27)\n",
    "\n",
    "\n"
   ]
  },
  {
   "cell_type": "code",
   "execution_count": null,
   "id": "97dc36cf",
   "metadata": {},
   "outputs": [],
   "source": []
  },
  {
   "cell_type": "code",
   "execution_count": 149,
   "id": "6c149cbd",
   "metadata": {},
   "outputs": [],
   "source": [
    "# Table 4 from Bothwell\n",
    "\n",
    "J = np.array([2,3,4,5,6,7])\n",
    "\n",
    "\n",
    "\n",
    "r_J = np.array([0.84,0.52,0.41,0.32,0.21,0.18])\n",
    "r_J_err = np.array([0.13,0.09,0.07,0.05,0.04,0.04])\n",
    "\n",
    "invr_J = 1./r_J \n",
    "invr_J_err = 1/r_J * np.sqrt((r_J_err/r_J)**2)\n"
   ]
  },
  {
   "cell_type": "code",
   "execution_count": 150,
   "id": "38b403d9",
   "metadata": {},
   "outputs": [
    {
     "data": {
      "image/png": "[encoded data removed]",
      "text/plain": [
       "<Figure size 432x288 with 1 Axes>"
      ]
     },
     "metadata": {
      "needs_background": "light"
     },
     "output_type": "display_data"
    }
   ],
   "source": [
    "plt.errorbar(J,invr_J,yerr=invr_J_err,fmt=\".\")\n",
    "#plt.errorbar(1,1,yerr=0,fmt=\".\")\n",
    "\n",
    "plt.ylabel(\"$S_{CO(J-(J-1))}$/$S_{CO(1-0)}$\",fontsize=16)\n",
    "plt.xlabel(\"J\",fontsize=16)\n",
    "\n",
    "plt.ylim(0.5,10)\n",
    "plt.yscale(\"log\")\n",
    "\n",
    "plt.savefig(\"CO_conversion.png\",dpi=150)"
   ]
  },
  {
   "cell_type": "code",
   "execution_count": 151,
   "id": "5b714c39",
   "metadata": {},
   "outputs": [
    {
     "data": {
      "image/png": "[encoded data removed]",
      "text/plain": [
       "<Figure size 432x288 with 1 Axes>"
      ]
     },
     "metadata": {
      "needs_background": "light"
     },
     "output_type": "display_data"
    }
   ],
   "source": [
    "plt.errorbar(J,invr_J*0.84,yerr=invr_J_err*0.84,fmt=\".\")\n",
    "#plt.errorbar(1,1,yerr=0,fmt=\".\")\n",
    "\n",
    "plt.ylabel(\"$S_{CO(J-(J-1))}$/$S_{CO(2-1)}$\",fontsize=16)\n",
    "plt.xlabel(\"J\",fontsize=16)\n",
    "\n",
    "plt.ylim(0.5,10)\n",
    "plt.yscale(\"log\")\n"
   ]
  },
  {
   "cell_type": "code",
   "execution_count": 152,
   "id": "5d74699b",
   "metadata": {},
   "outputs": [],
   "source": [
    "#Conversion from J-(J-1) to 1-0\n",
    "def toC10(L,L_err,J):\n",
    "    \"\"\"\n",
    "    Converts from luminosity J-(J-1) to 1-0 using\n",
    "    Bothwell et al. 2013 Table 4 (MNRAS 429 3047)\n",
    "    \n",
    "    \n",
    "    J: CO upper line transition [1,2,3,4,5,6,7] (int)\n",
    "    L: CO line luminosity [K km s^-1 pc^2] (float)\n",
    "    L_err: CO line flux uncertainty [K km s^-1 pc^2] (float)\n",
    "    \n",
    "    usage: for example to convert a luminosity of \n",
    "    10 pm 1 (K km s^-1 pc^2) from (3-2) to (1-0)\n",
    "    we use toC10(3,10,1)\n",
    "    \n",
    "    The ratio of brightness temperature is the ratio\n",
    "    of Luminosities according to Solomo 1997 eq 2\n",
    "    \"\"\"\n",
    "    val = np.array([0.84,0.52,0.41,0.32,0.21,0.18])\n",
    "    err = np.array([0.13,0.09,0.07,0.05,0.04,0.04])\n",
    "        \n",
    "    L_c = val[J-2]*L\n",
    "    L_c_err = L_c*np.sqrt((L_err/L)**2+(err[J-2]/val[J-2])**2)\n",
    "    return L_c,L_c_err\n"
   ]
  },
  {
   "cell_type": "code",
   "execution_count": 153,
   "id": "716fb0fb",
   "metadata": {},
   "outputs": [],
   "source": [
    "#nu of the CO line transitions\n",
    "nu10 = 115.27120180\n",
    "nu21 = 230.53800000\n",
    "nu32 = 345.79598990\n",
    "nu43 = 461.04076820\n",
    "nu54 = 576.26793050\n",
    "nu65 = 806.65180600\n",
    "\n",
    "nurest = np.array([nu10,nu21,nu32,nu43,nu54,nu65])\n",
    "\n",
    "def LpCO(I,I_err,z,J):\n",
    "    \"\"\"\n",
    "    Calculates the Apparent CO line Luminosity from the line intensity, \n",
    "    frequency and redshift assuming a Planck Cosmology framework\n",
    "    \n",
    "    I: CO(J-(J-1)) velocity integrated flux [Jy km/s] (float)\n",
    "    I_err: CO(J-(J-1)) velocity integrated flux uncertainty [Jy km/s] (float)\n",
    "    z: redshift (float)\n",
    "    J: Upper J transition (int)\n",
    "    \n",
    "    return: Apparent Luminosity of the CO emission line [K km/s pc^2] (float,float)\n",
    "    \"\"\"\n",
    "    \n",
    "    nu_rest = nurest[J-1]\n",
    "    nu = nu_rest/(1.+z)\n",
    "    DL = Planck.luminosity_distance(z).value\n",
    "    #DL = cosmo.luminosity_distance(z).value\n",
    "    LCO = 3.25e7*I*(nu**(-2))*(DL**2)*((1+z)**(-3))\n",
    "    LCO_err = 3.25e7*I_err*(nu**(-2))*(DL**2)*((1+z)**(-3))\n",
    "    return np.array([LCO,LCO_err])\n",
    "\n",
    "\n"
   ]
  },
  {
   "cell_type": "code",
   "execution_count": 154,
   "id": "53bac28d",
   "metadata": {},
   "outputs": [
    {
     "data": {
      "text/plain": [
       "25841.621561270313"
      ]
     },
     "execution_count": 154,
     "metadata": {},
     "output_type": "execute_result"
    }
   ],
   "source": [
    "cosmo.luminosity_distance(1+2).value "
   ]
  },
  {
   "cell_type": "code",
   "execution_count": 155,
   "id": "98d1cb06",
   "metadata": {},
   "outputs": [
    {
     "data": {
      "text/plain": [
       "array([8.31199626, 0.67727377])"
      ]
     },
     "execution_count": 155,
     "metadata": {},
     "output_type": "execute_result"
    }
   ],
   "source": [
    "LpCO(2.7,0.22,2.5146,1)/1e11    #8.169104276232614"
   ]
  },
  {
   "cell_type": "code",
   "execution_count": 128,
   "id": "c1099429",
   "metadata": {},
   "outputs": [
    {
     "data": {
      "text/plain": [
       "array([1.99859381, 0.24982423])"
      ]
     },
     "execution_count": 128,
     "metadata": {},
     "output_type": "execute_result"
    }
   ],
   "source": [
    "LpCO(0.96,0.12,2.0078,1)/1e11   #1.9504219383449353"
   ]
  },
  {
   "cell_type": "code",
   "execution_count": 156,
   "id": "ce65ff51",
   "metadata": {},
   "outputs": [
    {
     "data": {
      "text/plain": [
       "array([4.39058096, 0.73176349])"
      ]
     },
     "execution_count": 156,
     "metadata": {},
     "output_type": "execute_result"
    }
   ],
   "source": [
    "LpCO(1.20,0.20,2.7855,1)/1e11"
   ]
  },
  {
   "cell_type": "code",
   "execution_count": 157,
   "id": "f78111af",
   "metadata": {},
   "outputs": [
    {
     "data": {
      "text/plain": [
       "array([4.51192387, 0.64456055])"
      ]
     },
     "execution_count": 157,
     "metadata": {},
     "output_type": "execute_result"
    }
   ],
   "source": [
    "LpCO(1.40,0.20,2.5833,1)/1e11\n"
   ]
  },
  {
   "cell_type": "code",
   "execution_count": 158,
   "id": "83654c9e",
   "metadata": {},
   "outputs": [
    {
     "data": {
      "text/plain": [
       "array([3.64410827, 0.65593949])"
      ]
     },
     "execution_count": 158,
     "metadata": {},
     "output_type": "execute_result"
    }
   ],
   "source": [
    "LpCO(1.00,0.18,2.7788,1)/1e11"
   ]
  },
  {
   "cell_type": "code",
   "execution_count": 159,
   "id": "e3f61878",
   "metadata": {},
   "outputs": [
    {
     "data": {
      "text/plain": [
       "array([5.99749294, 0.88198426])"
      ]
     },
     "execution_count": 159,
     "metadata": {},
     "output_type": "execute_result"
    }
   ],
   "source": [
    "LpCO(1.70,0.25,2.7256,1)/1e11"
   ]
  },
  {
   "cell_type": "code",
   "execution_count": 163,
   "id": "b7c0a37b",
   "metadata": {},
   "outputs": [],
   "source": [
    "L1  = np.array([8.31199626,1.99859381,4.39058096,4.51192387,3.64410827,5.99749294])\n",
    "L1e = np.array([0.67727377,0.24982423,0.73176349,0.64456055,0.65593949,0.88198426])\n",
    "L2  = np.array([ 7.93, 1.91, 4.18, 4.29, 3.48, 5.77 ])\n",
    "L2e = np.array([ 0.65, 0.24, 0.70, 0.61, 0.63, 0.85 ])\n",
    "\n",
    "x0 = np.linspace(1.5,9)"
   ]
  },
  {
   "cell_type": "code",
   "execution_count": 168,
   "id": "92a4d85d",
   "metadata": {},
   "outputs": [
    {
     "data": {
      "text/plain": [
       "[<matplotlib.lines.Line2D at 0x135a303d0>]"
      ]
     },
     "execution_count": 168,
     "metadata": {},
     "output_type": "execute_result"
    },
    {
     "data": {
      "image/png": "[encoded data removed]",
      "text/plain": [
       "<Figure size 432x288 with 1 Axes>"
      ]
     },
     "metadata": {
      "needs_background": "light"
     },
     "output_type": "display_data"
    }
   ],
   "source": [
    "plt.plot(L2,L1,\"o\")\n",
    "plt.plot(x0,x0,\"-\")"
   ]
  },
  {
   "cell_type": "code",
   "execution_count": 171,
   "id": "40799688",
   "metadata": {},
   "outputs": [
    {
     "data": {
      "text/plain": [
       "(0.9, 1.0)"
      ]
     },
     "execution_count": 171,
     "metadata": {},
     "output_type": "execute_result"
    },
    {
     "data": {
      "image/png": "[encoded data removed]",
      "text/plain": [
       "<Figure size 432x288 with 1 Axes>"
      ]
     },
     "metadata": {
      "needs_background": "light"
     },
     "output_type": "display_data"
    }
   ],
   "source": [
    "plt.plot(L2,L2/L1,\"o\")\n",
    "plt.ylim(0.9,1.0)"
   ]
  },
  {
   "cell_type": "code",
   "execution_count": 129,
   "id": "e28f15b2",
   "metadata": {},
   "outputs": [],
   "source": [
    "#ID T ra dec z ICO ICOe SN V V_e LpCO LpCO_err LpCO10 LpCO10_err log10 M(H2) log10 M(H2)_err   \n",
    "#0  1  2  3  4  5   6    7 8  9   10    11       12      13         14            15\n",
    "\n",
    "ID,LpCO,LpCO_err,LpCO10,LpCO10_err = np.genfromtxt(\"Bothwell_2013\",\n",
    "                            usecols=(0,10,11,12,13),unpack=True,dtype=str)\n",
    "ID,T,z,ICO,ICOe,V,V_e = np.genfromtxt(\"Bothwell_2013\",\n",
    "                            usecols=(0,1,4,5,6,8,9),unpack=True,dtype=str)\n",
    "LpCO = np.array(LpCO,dtype=float)\n",
    "LpCO_err = np.array(LpCO_err,dtype=float)\n",
    "LpCO10 = np.array(LpCO10,dtype=float)\n",
    "LpCO10_err = np.array(LpCO10_err,dtype=float)\n",
    "V = np.array(V,dtype=float)\n",
    "V_e = np.array(V_e,dtype=float)"
   ]
  },
  {
   "cell_type": "code",
   "execution_count": null,
   "id": "b62d82a9",
   "metadata": {},
   "outputs": [],
   "source": []
  },
  {
   "cell_type": "code",
   "execution_count": null,
   "id": "17eeb136",
   "metadata": {},
   "outputs": [],
   "source": []
  },
  {
   "cell_type": "code",
   "execution_count": 134,
   "id": "a747ee51",
   "metadata": {},
   "outputs": [],
   "source": [
    "#ID T z V Ve ICO ICOe LpCO LpCOe nu\n",
    "#0  1 2 3 4   5   6     7    8   9\n",
    "\n",
    "A16_ID,A16_V,A16_Ve,A16_LpCO,A16_LpCOe = np.genfromtxt(\"Aravena_2016\",\n",
    "                            usecols=(0,3,4,7,8),unpack=True,dtype=str)\n",
    "A16_T,A16_ICO,A16_ICOe = np.genfromtxt(\"Aravena_2016\",\n",
    "                   usecols=(1,5,6),unpack=True,dtype=str)\n",
    "\n",
    "A16_V = np.array(A16_V,dtype=float)\n",
    "A16_Ve = np.array(A16_Ve,dtype=float)\n",
    "\n",
    "A16_ICO = np.array(A16_ICO,dtype=float)\n",
    "A16_ICOe = np.array(A16_ICOe,dtype=float)\n",
    "A16_LpCO = np.array(A16_LpCO,dtype=float)*10\n",
    "A16_LpCOe = np.array(A16_LpCOe,dtype=float)*10"
   ]
  },
  {
   "cell_type": "code",
   "execution_count": 141,
   "id": "5ea09bbf",
   "metadata": {},
   "outputs": [
    {
     "data": {
      "text/plain": [
       "2"
      ]
     },
     "execution_count": 141,
     "metadata": {},
     "output_type": "execute_result"
    }
   ],
   "source": []
  },
  {
   "cell_type": "code",
   "execution_count": 144,
   "id": "ebc7b506",
   "metadata": {},
   "outputs": [],
   "source": [
    "A16_T\n",
    "\n",
    "A16_J = []\n",
    "\n",
    "for i in range(len(A16_T)):\n",
    "    J =  int(A16_T[i][1:2])\n",
    "    A16_J.append(J)"
   ]
  },
  {
   "cell_type": "code",
   "execution_count": 145,
   "id": "f9727c67",
   "metadata": {},
   "outputs": [
    {
     "data": {
      "text/plain": [
       "[2, 1, 2, 2, 2, 2, 2, 1, 2, 1, 1, 2, 2, 1, 2, 2, 1]"
      ]
     },
     "execution_count": 145,
     "metadata": {},
     "output_type": "execute_result"
    }
   ],
   "source": [
    "A16_J"
   ]
  },
  {
   "cell_type": "code",
   "execution_count": 135,
   "id": "3cafe07a",
   "metadata": {},
   "outputs": [
    {
     "data": {
      "text/plain": [
       "array([1.7 , 2.7 , 1.  , 1.8 , 2.15, 1.3 , 0.95, 0.96, 1.1 , 1.2 , 1.4 ,\n",
       "       1.6 , 0.85, 1.  , 0.95, 1.25, 1.7 ])"
      ]
     },
     "execution_count": 135,
     "metadata": {},
     "output_type": "execute_result"
    }
   ],
   "source": [
    "A16_ICO"
   ]
  },
  {
   "cell_type": "code",
   "execution_count": 111,
   "id": "716b9100",
   "metadata": {},
   "outputs": [],
   "source": [
    "#ID z ze SCO SCOe V Ve ICO ICOe LpCO LpCOerr \n",
    "#0  1  2  3   4   5  6  7   8    9     10\n",
    "\n",
    "H12_ID,H12_V,H12_Ve,H12_LpCO,H12_LpCOe = np.genfromtxt(\"Harris_2012\",\n",
    "                         usecols=(0,5,6,9,10),unpack=True,dtype=str)\n",
    "H12_V = np.array(H12_V,dtype=float)\n",
    "H12_Ve = np.array(H12_Ve,dtype=float)\n",
    "H12_LpCO = np.array(H12_LpCO,dtype=float)\n",
    "H12_LpCOe = np.array(H12_LpCOe,dtype=float)"
   ]
  },
  {
   "cell_type": "code",
   "execution_count": 112,
   "id": "88a16504",
   "metadata": {},
   "outputs": [],
   "source": [
    "#G  Line    nu_obs  SCO     SCO_e   V     V_e   DV   DV_e  L'CO               S60   S100  logFIR  z\n",
    "#           GHz     Jy km/s Jy km/s km/s  km/s  km/s km/s  10^10 K km/s pc^2  Jy    Jy    Lsun  \n",
    "\n",
    "C11_ID,C11_V,C11_Ve,C11_LpCO = np.genfromtxt(\"Combes_2011\",\n",
    "                         usecols=(0,7,8,9),unpack=True,dtype=str)\n",
    "C11_V = np.array(C11_V,dtype=float)\n",
    "C11_Ve = np.array(C11_Ve,dtype=float)\n",
    "C11_LpCO = np.array(C11_LpCO,dtype=float)"
   ]
  },
  {
   "cell_type": "code",
   "execution_count": 113,
   "id": "28649a75",
   "metadata": {},
   "outputs": [],
   "source": [
    "#G  Line    nu_obs  SCO     SCO_e   V     V_e   DV    DV_e  L'CO               S60   S100  logFIR  z\n",
    "#           GHz     Jy km/s Jy km/s km/s  km/s  km/s  km/s  10^10 K km/s pc^2  Jy    Jy    Lsun  \n",
    "\n",
    "C13_ID,C13_V,C13_Ve,C13_LpCO = np.genfromtxt(\"Combes_2013\",\n",
    "                         usecols=(0,7,8,9),unpack=True,dtype=str)\n",
    "C13_V = np.array(C13_V,dtype=float)\n",
    "C13_Ve = np.array(C13_Ve,dtype=float)\n",
    "C13_LpCO = np.array(C13_LpCO,dtype=float)"
   ]
  },
  {
   "cell_type": "code",
   "execution_count": 114,
   "id": "5ae7625a",
   "metadata": {},
   "outputs": [
    {
     "data": {
      "text/plain": [
       "<matplotlib.legend.Legend at 0x12ba4f0a0>"
      ]
     },
     "execution_count": 114,
     "metadata": {},
     "output_type": "execute_result"
    },
    {
     "data": {
      "image/png": "[encoded data removed]",
      "text/plain": [
       "<Figure size 720x576 with 1 Axes>"
      ]
     },
     "metadata": {
      "needs_background": "light"
     },
     "output_type": "display_data"
    }
   ],
   "source": [
    "\n",
    "x0 = np.linspace(80,2000)\n",
    "y0 = 10**5.4*x0**2/1e10\n",
    "\n",
    "\n",
    "\n",
    "plt.figure(figsize=(10,8))\n",
    "\n",
    "plt.errorbar(V,LpCO10,xerr=V_e,yerr=LpCO10_err,fmt=\".\",label=\"Bothwell 2013\")\n",
    "\n",
    "#plt.errorbar(V,LpCO,xerr=V_e,yerr=LpCO_err,fmt=\".\",label=\"Bothwell 2013\")\n",
    "\n",
    "plt.errorbar(A16_V,A16_LpCO,xerr=A16_Ve,yerr=A16_LpCOe,fmt=\".\",label=\"Aravena 2016\")\n",
    "plt.errorbar(H12_V,H12_LpCO,xerr=H12_Ve,yerr=H12_LpCOe,fmt=\".\",label=\"Harris 2012\")\n",
    "\n",
    "\n",
    "plt.errorbar(C11_V,C11_LpCO,xerr=C11_Ve,fmt=\".\",label=\"Combes 2011\")\n",
    "\n",
    "plt.errorbar(C13_V,C13_LpCO,xerr=C13_Ve,fmt=\".\",label=\"Combes 2013\")\n",
    "\n",
    "\n",
    "\n",
    "plt.xscale(\"log\")\n",
    "plt.yscale(\"log\")\n",
    "\n",
    "plt.xlabel(r\"$\\Delta V$ (km/s)\",fontsize=16)\n",
    "plt.ylabel(r\"$L'_{CO(1-0)}$ ($10^{10}$K km s$^{-1}$ pc$^2$)\",fontsize=16)\n",
    "\n",
    "plt.plot(x0,y0,\"--\",color=\"black\")\n",
    "\n",
    "plt.ylim(0.2,150)\n",
    "\n",
    "plt.xlim(90,1500)\n",
    "\n",
    "plt.legend()"
   ]
  },
  {
   "cell_type": "code",
   "execution_count": null,
   "id": "08648566",
   "metadata": {},
   "outputs": [],
   "source": []
  },
  {
   "cell_type": "code",
   "execution_count": null,
   "id": "d09b6f4d",
   "metadata": {},
   "outputs": [],
   "source": []
  },
  {
   "cell_type": "code",
   "execution_count": null,
   "id": "3db00615",
   "metadata": {},
   "outputs": [],
   "source": []
  }
 ],
 "metadata": {
  "kernelspec": {
   "display_name": "Python 3 (ipykernel)",
   "language": "python",
   "name": "python3"
  },
  "language_info": {
   "codemirror_mode": {
    "name": "ipython",
    "version": 3
   },
   "file_extension": ".py",
   "mimetype": "text/x-python",
   "name": "python",
   "nbconvert_exporter": "python",
   "pygments_lexer": "ipython3",
   "version": "3.9.10"
  }
 },
 "nbformat": 4,
 "nbformat_minor": 5
}
