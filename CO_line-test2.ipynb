{
 "cells": [
  {
   "cell_type": "code",
   "execution_count": 367,
   "id": "23151274",
   "metadata": {},
   "outputs": [],
   "source": [
    "# CO line conversions routines "
   ]
  },
  {
   "cell_type": "code",
   "execution_count": 368,
   "id": "671ff97d",
   "metadata": {},
   "outputs": [],
   "source": [
    "import numpy as np\n",
    "import matplotlib.pyplot as plt\n",
    "from uncertainties import ufloat\n",
    "\n",
    "from astropy.cosmology import FlatLambdaCDM\n",
    "import astropy.units as u\n",
    "\n",
    "from astropy.cosmology import Planck18 as Planck"
   ]
  },
  {
   "cell_type": "code",
   "execution_count": 369,
   "id": "63bf1090",
   "metadata": {},
   "outputs": [],
   "source": [
    "#cosmo = FlatLambdaCDM(H0=67.4 * u.km / u.s / u.Mpc, Tcmb0=2.725 * u.K, Om0=0.315)\n",
    "\n",
    "\n",
    "#cosmo = FlatLambdaCDM(H0=71 * u.km / u.s / u.Mpc, Tcmb0=2.725 * u.K, Om0=0.27)\n",
    "\n",
    "#Bothwell\n",
    "cosmo = FlatLambdaCDM(H0=71 * u.km / u.s / u.Mpc, Tcmb0=2.725 * u.K, Om0=0.27)\n",
    "\n",
    "\n"
   ]
  },
  {
   "cell_type": "code",
   "execution_count": null,
   "id": "97dc36cf",
   "metadata": {},
   "outputs": [],
   "source": []
  },
  {
   "cell_type": "code",
   "execution_count": 370,
   "id": "6c149cbd",
   "metadata": {},
   "outputs": [],
   "source": [
    "# Table 4 from Bothwell\n",
    "\n",
    "J = np.array([2,3,4,5,6,7])\n",
    "\n",
    "\n",
    "\n",
    "r_J = np.array([0.84,0.52,0.41,0.32,0.21,0.18])\n",
    "r_J_err = np.array([0.13,0.09,0.07,0.05,0.04,0.04])\n",
    "\n",
    "invr_J = 1./r_J \n",
    "invr_J_err = 1/r_J * np.sqrt((r_J_err/r_J)**2)\n"
   ]
  },
  {
   "cell_type": "code",
   "execution_count": 371,
   "id": "38b403d9",
   "metadata": {},
   "outputs": [
    {
     "data": {
      "image/png": "[encoded data removed]",
      "text/plain": [
       "<Figure size 432x288 with 1 Axes>"
      ]
     },
     "metadata": {
      "needs_background": "light"
     },
     "output_type": "display_data"
    }
   ],
   "source": [
    "plt.errorbar(J,invr_J,yerr=invr_J_err,fmt=\".\")\n",
    "#plt.errorbar(1,1,yerr=0,fmt=\".\")\n",
    "\n",
    "plt.ylabel(\"$S_{CO(J-(J-1))}$/$S_{CO(1-0)}$\",fontsize=16)\n",
    "plt.xlabel(\"J\",fontsize=16)\n",
    "\n",
    "plt.ylim(0.5,10)\n",
    "plt.yscale(\"log\")\n",
    "\n",
    "plt.savefig(\"CO_conversion.png\",dpi=150)"
   ]
  },
  {
   "cell_type": "code",
   "execution_count": 372,
   "id": "5b714c39",
   "metadata": {},
   "outputs": [
    {
     "data": {
      "image/png": "[encoded data removed]",
      "text/plain": [
       "<Figure size 432x288 with 1 Axes>"
      ]
     },
     "metadata": {
      "needs_background": "light"
     },
     "output_type": "display_data"
    }
   ],
   "source": [
    "plt.errorbar(J,invr_J*0.84,yerr=invr_J_err*0.84,fmt=\".\")\n",
    "#plt.errorbar(1,1,yerr=0,fmt=\".\")\n",
    "\n",
    "plt.ylabel(\"$S_{CO(J-(J-1))}$/$S_{CO(2-1)}$\",fontsize=16)\n",
    "plt.xlabel(\"J\",fontsize=16)\n",
    "\n",
    "plt.ylim(0.5,10)\n",
    "plt.yscale(\"log\")\n"
   ]
  },
  {
   "cell_type": "code",
   "execution_count": 373,
   "id": "5d74699b",
   "metadata": {},
   "outputs": [],
   "source": [
    "#Conversion from J-(J-1) to 1-0\n",
    "def toC10(L,L_err,J):\n",
    "    \"\"\"\n",
    "    Converts from luminosity J-(J-1) to 1-0 using\n",
    "    Bothwell et al. 2013 Table 4 (MNRAS 429 3047)\n",
    "    \n",
    "    \n",
    "    J: CO upper line transition [1,2,3,4,5,6,7] (int)\n",
    "    L: CO line luminosity [K km s^-1 pc^2] (float)\n",
    "    L_err: CO line flux uncertainty [K km s^-1 pc^2] (float)\n",
    "    \n",
    "    usage: for example to convert a luminosity of \n",
    "    10 pm 1 (K km s^-1 pc^2) from (3-2) to (1-0)\n",
    "    we use toC10(3,10,1)\n",
    "    \n",
    "    The ratio of brightness temperature is the ratio\n",
    "    of Luminosities according to Solomo 1997 eq 2\n",
    "    \"\"\"\n",
    "    val = np.array([0.84,0.52,0.41,0.32,0.21,0.18])\n",
    "    err = np.array([0.13,0.09,0.07,0.05,0.04,0.04])\n",
    "    if J==1:\n",
    "        return L,L_err\n",
    "    L_c = (1./val[J-2])*L\n",
    "    L_c_err = L_c*np.sqrt((L_err/L)**2+(err[J-2]/val[J-2])**2)\n",
    "    return L_c,L_c_err\n"
   ]
  },
  {
   "cell_type": "code",
   "execution_count": 374,
   "id": "716fb0fb",
   "metadata": {},
   "outputs": [],
   "source": [
    "#nu of the CO line transitions\n",
    "nu10 = 115.27120180\n",
    "nu21 = 230.53800000\n",
    "nu32 = 345.79598990\n",
    "nu43 = 461.04076820\n",
    "nu54 = 576.26793050\n",
    "nu65 = 806.65180600\n",
    "nu76 = 921.7997\n",
    "\n",
    "nurest = np.array([nu10,nu21,nu32,nu43,nu54,nu65,nu76])\n",
    "\n",
    "def LpCO(I,I_err,z,J):\n",
    "    \"\"\"\n",
    "    Calculates the Apparent CO line Luminosity from the line intensity, \n",
    "    frequency and redshift assuming a Planck Cosmology framework\n",
    "    \n",
    "    I: CO(J-(J-1)) velocity integrated flux [Jy km/s] (float)\n",
    "    I_err: CO(J-(J-1)) velocity integrated flux uncertainty [Jy km/s] (float)\n",
    "    z: redshift (float)\n",
    "    J: Upper J transition (int)\n",
    "    \n",
    "    return: Apparent Luminosity of the CO emission line [K km/s pc^2] (float,float)\n",
    "    \"\"\"\n",
    "    \n",
    "    nu_rest = nurest[J-1]\n",
    "    nu = nu_rest/(1.+z)\n",
    "    DL = Planck.luminosity_distance(z).value\n",
    "    #DL = cosmo.luminosity_distance(z).value\n",
    "    LCO = 3.25e7*I*(nu**(-2))*(DL**2)*((1+z)**(-3))\n",
    "    LCO_err = 3.25e7*I_err*(nu**(-2))*(DL**2)*((1+z)**(-3))\n",
    "    return np.array([LCO,LCO_err])\n",
    "\n",
    "\n"
   ]
  },
  {
   "cell_type": "code",
   "execution_count": 375,
   "id": "df657a2d",
   "metadata": {},
   "outputs": [
    {
     "data": {
      "text/plain": [
       "array([1.80532179, 0.31182831])"
      ]
     },
     "execution_count": 375,
     "metadata": {},
     "output_type": "execute_result"
    }
   ],
   "source": [
    "LpCO(1.1,0.19,2.292,4)/1e10"
   ]
  },
  {
   "cell_type": "code",
   "execution_count": 376,
   "id": "841dec18",
   "metadata": {},
   "outputs": [
    {
     "data": {
      "text/plain": [
       "(4.2926829268292686, 1.0356320462211432)"
      ]
     },
     "execution_count": 376,
     "metadata": {},
     "output_type": "execute_result"
    }
   ],
   "source": [
    "toC10(1.76,0.3,4)"
   ]
  },
  {
   "cell_type": "code",
   "execution_count": 377,
   "id": "53bac28d",
   "metadata": {},
   "outputs": [
    {
     "data": {
      "text/plain": [
       "25841.621561270313"
      ]
     },
     "execution_count": 377,
     "metadata": {},
     "output_type": "execute_result"
    }
   ],
   "source": [
    "cosmo.luminosity_distance(1+2).value "
   ]
  },
  {
   "cell_type": "code",
   "execution_count": null,
   "id": "17eeb136",
   "metadata": {},
   "outputs": [],
   "source": []
  },
  {
   "cell_type": "code",
   "execution_count": 378,
   "id": "a747ee51",
   "metadata": {},
   "outputs": [],
   "source": [
    "#ID T ra dec z ICO ICOe SN V V_e LpCO LpCO_err LpCO10 LpCO10_err log10 M(H2) log10 M(H2)_err   \n",
    "#0  1  2  3  4  5   6    7 8  9   10    11       12      13         14            15\n",
    "\n",
    "B13_ID,B13_LpCO,B13_LpCO_err,B13_LpCO10,B13_LpCO10_err = np.genfromtxt(\"Bothwell_2013\",\n",
    "                                     usecols=(0,10,11,12,13),unpack=True,dtype=str)\n",
    "B13_ID,B13_T,B13_z,B13_ICO,B13_ICOe,B13_V,B13_V_e = np.genfromtxt(\"Bothwell_2013\",\n",
    "                                usecols=(0,1,4,5,6,8,9),unpack=True,dtype=str)\n",
    "B13_LpCO = np.array(B13_LpCO,dtype=float)\n",
    "B13_LpCO_err = np.array(B13_LpCO_err,dtype=float)\n",
    "B13_LpCO10 = np.array(B13_LpCO10,dtype=float)\n",
    "B13_LpCO10_err = np.array(B13_LpCO10_err,dtype=float)\n",
    "B13_V = np.array(B13_V,dtype=float)\n",
    "B13_V_e = np.array(B13_V_e,dtype=float)"
   ]
  },
  {
   "cell_type": "code",
   "execution_count": 379,
   "id": "99305b7d",
   "metadata": {},
   "outputs": [],
   "source": [
    "B13_T\n",
    "\n",
    "B13_J = []\n",
    "\n",
    "for i in range(len(B13_T)):\n",
    "    J =  int(B13_T[i][1:2])\n",
    "    B13_J.append(J)\n",
    "\n",
    "B13_LCO10 = []\n",
    "B13_LCO10_err = []\n",
    "for i in range(len(B13_ID)):\n",
    "    ICO = float(B13_ICO[i])\n",
    "    ICOe = float(B13_ICOe[i])\n",
    "    z = float(B13_z[i])\n",
    "    J = int(B13_J[i])\n",
    "    L,Lerr = LpCO(ICO,ICOe,z,J)/1e10\n",
    "    L10,Lerr10 = toC10(L,Lerr,J)\n",
    "    B13_LCO10.append(L10)\n",
    "    B13_LCO10_err.append(Lerr10)\n",
    "B13_LCO10 = np.asarray(B13_LCO10)\n",
    "B13_LCO10_err = np.asarray(B13_LCO10_err)"
   ]
  },
  {
   "cell_type": "code",
   "execution_count": 380,
   "id": "c4f369d4",
   "metadata": {},
   "outputs": [
    {
     "data": {
      "text/plain": [
       "[<matplotlib.lines.Line2D at 0x13eb10fa0>]"
      ]
     },
     "execution_count": 380,
     "metadata": {},
     "output_type": "execute_result"
    },
    {
     "data": {
      "image/png": "[encoded data removed]",
      "text/plain": [
       "<Figure size 432x288 with 1 Axes>"
      ]
     },
     "metadata": {
      "needs_background": "light"
     },
     "output_type": "display_data"
    }
   ],
   "source": [
    "\n",
    "x0 = np.linspace(1.5,15)\n",
    "\n",
    "plt.plot(B13_LCO10,B13_LpCO10,\".\")\n",
    "plt.plot(x0,x0,\"-\")"
   ]
  },
  {
   "cell_type": "code",
   "execution_count": 381,
   "id": "664e11b9",
   "metadata": {},
   "outputs": [],
   "source": [
    "#G  Line    nu_obs  SCO     SCO_e   V     V_e   DV   DV_e  L'CO               S60   S100  logFIR  z\n",
    "#           GHz     Jy km/s Jy km/s km/s  km/s  km/s km/s  10^10 K km/s pc^2  Jy    Jy    Lsun  \n",
    "\n",
    "C11_ID,C11_V,C11_Ve,C11_LpCO = np.genfromtxt(\"Combes_2011\",\n",
    "                         usecols=(0,7,8,9),unpack=True,dtype=str)\n",
    "C11_T,C11_ICO,C11_ICOe,C11_z = np.genfromtxt(\"Combes_2011\",\n",
    "                         usecols=(1,3,4,13),unpack=True,dtype=str)\n",
    "C11_V = np.array(C11_V,dtype=float)\n",
    "C11_Ve = np.array(C11_Ve,dtype=float)\n",
    "C11_LpCO = np.array(C11_LpCO,dtype=float)\n",
    "\n",
    "C11_ICO = np.array(C11_ICO,dtype=float)\n",
    "C11_ICOe = np.array(C11_ICOe,dtype=float)\n",
    "C11_z = np.array(C11_z,dtype=float)\n",
    "\n",
    "\n",
    "C11_J = []\n",
    "\n",
    "for i in range(len(C11_T)):\n",
    "    J =  int(C11_T[i][1:2])\n",
    "    C11_J.append(J)\n",
    "    \n",
    "C11_LCO10 = []\n",
    "C11_LCO10_err = []\n",
    "for i in range(len(C11_ID)):\n",
    "    ICO = float(C11_ICO[i])\n",
    "    ICOe = float(C11_ICOe[i])\n",
    "    z = float(C11_z[i])\n",
    "    J = int(C11_J[i])\n",
    "    L,Lerr = LpCO(ICO,ICOe,z,J)/1e10\n",
    "    L10,Lerr10 = toC10(L,Lerr,J)\n",
    "    C11_LCO10.append(L10)\n",
    "    C11_LCO10_err.append(Lerr10)\n",
    "C11_LCO10 = np.asarray(C11_LCO10)\n",
    "C11_LCO10_err = np.asarray(C11_LCO10_err)"
   ]
  },
  {
   "cell_type": "code",
   "execution_count": 382,
   "id": "d3fb01ad",
   "metadata": {},
   "outputs": [
    {
     "data": {
      "text/plain": [
       "[<matplotlib.lines.Line2D at 0x13eb6c070>]"
      ]
     },
     "execution_count": 382,
     "metadata": {},
     "output_type": "execute_result"
    },
    {
     "data": {
      "image/png": "[encoded data removed]",
      "text/plain": [
       "<Figure size 432x288 with 1 Axes>"
      ]
     },
     "metadata": {
      "needs_background": "light"
     },
     "output_type": "display_data"
    }
   ],
   "source": [
    "\n",
    "#plt.figure(figsize=(7,7))\n",
    "\n",
    "x0 = np.linspace(0.2,8)\n",
    "\n",
    "plt.plot(C11_LCO10,C11_LpCO,\".\")\n",
    "\n",
    "\n",
    "\n",
    "plt.plot(x0,x0,\"-\")"
   ]
  },
  {
   "cell_type": "code",
   "execution_count": 383,
   "id": "bedbe18a",
   "metadata": {},
   "outputs": [],
   "source": [
    "#G  Line    nu_obs  SCO     SCO_e   V     V_e   DV   DV_e  L'CO               S60   S100  logFIR  z\n",
    "#           GHz     Jy km/s Jy km/s km/s  km/s  km/s km/s  10^10 K km/s pc^2  Jy    Jy    Lsun  \n",
    "\n",
    "C13_ID,C13_V,C13_Ve,C13_LpCO = np.genfromtxt(\"Combes_2013\",\n",
    "                         usecols=(0,7,8,9),unpack=True,dtype=str)\n",
    "C13_T,C13_ICO,C13_ICOe,C13_z = np.genfromtxt(\"Combes_2013\",\n",
    "                         usecols=(1,3,4,13),unpack=True,dtype=str)\n",
    "C13_V = np.array(C13_V,dtype=float)\n",
    "C13_Ve = np.array(C13_Ve,dtype=float)\n",
    "C13_LpCO = np.array(C13_LpCO,dtype=float)\n",
    "\n",
    "C13_ICO = np.array(C13_ICO,dtype=float)\n",
    "C13_ICOe = np.array(C13_ICOe,dtype=float)\n",
    "C13_z = np.array(C13_z,dtype=float)\n",
    "\n",
    "\n",
    "C13_J = []\n",
    "\n",
    "for i in range(len(C13_T)):\n",
    "    J =  int(C13_T[i][1:2])\n",
    "    C13_J.append(J)\n",
    "    \n",
    "C13_LCO10 = []\n",
    "C13_LCO10_err = []\n",
    "for i in range(len(C13_ID)):\n",
    "    ICO = float(C13_ICO[i])\n",
    "    ICOe = float(C13_ICOe[i])\n",
    "    z = float(C13_z[i])\n",
    "    J = int(C13_J[i])\n",
    "    L,Lerr = LpCO(ICO,ICOe,z,J)/1e10\n",
    "    L10,Lerr10 = toC10(L,Lerr,J)\n",
    "    C13_LCO10.append(L10)\n",
    "    C13_LCO10_err.append(Lerr10)\n",
    "C13_LCO10 = np.asarray(C13_LCO10)\n",
    "C13_LCO10_err = np.asarray(C13_LCO10_err)"
   ]
  },
  {
   "cell_type": "code",
   "execution_count": 384,
   "id": "d52bbb2e",
   "metadata": {},
   "outputs": [
    {
     "data": {
      "text/plain": [
       "[<matplotlib.lines.Line2D at 0x13ebe05e0>]"
      ]
     },
     "execution_count": 384,
     "metadata": {},
     "output_type": "execute_result"
    },
    {
     "data": {
      "image/png": "[encoded data removed]",
      "text/plain": [
       "<Figure size 432x288 with 1 Axes>"
      ]
     },
     "metadata": {
      "needs_background": "light"
     },
     "output_type": "display_data"
    }
   ],
   "source": [
    "\n",
    "x0 = np.linspace(0.2,8)\n",
    "\n",
    "plt.plot(C13_LCO10,C13_LpCO,\".\")\n",
    "plt.plot(x0,x0,\"-\")"
   ]
  },
  {
   "cell_type": "code",
   "execution_count": 389,
   "id": "3f41b075",
   "metadata": {},
   "outputs": [],
   "source": [
    "#ID         T    z      V   Ve  ICO  ICOe LpCO  LpCOe nu\n",
    "\n",
    "A16_ID,A16_V,A16_Ve,A16_LpCO,A16_LpCOe = np.genfromtxt(\"Aravena_2016\",\n",
    "                         usecols=(0,3,4,7,8),unpack=True,dtype=str)\n",
    "A16_T,A16_ICO,A16_ICOe,A16_z = np.genfromtxt(\"Aravena_2016\",\n",
    "                         usecols=(1,5,6,2),unpack=True,dtype=str)\n",
    "\n",
    "A16_V = np.array(A16_V,dtype=float)\n",
    "A16_Ve = np.array(A16_Ve,dtype=float)\n",
    "\n",
    "A16_LpCO = np.array(A16_LpCO,dtype=float)\n",
    "A16_LpCOe = np.array(A16_LpCOe,dtype=float)\n",
    "\n",
    "A16_ICO = np.array(A16_ICO,dtype=float)\n",
    "A16_ICOe = np.array(A16_ICOe,dtype=float)\n",
    "A16_z = np.array(A16_z,dtype=float)\n",
    "\n",
    "\n",
    "A16_J = []\n",
    "\n",
    "for i in range(len(A16_T)):\n",
    "    J =  int(A16_T[i][1:2])\n",
    "    A16_J.append(J)\n",
    "    \n",
    "A16_LCO10 = []\n",
    "A16_LCO10_err = []\n",
    "for i in range(len(A16_ID)):\n",
    "    ICO = float(A16_ICO[i])\n",
    "    ICOe = float(A16_ICOe[i])\n",
    "    z = float(A16_z[i])\n",
    "    J = int(A16_J[i])\n",
    "    L,Lerr = LpCO(ICO,ICOe,z,J)/1e10\n",
    "    L10,Lerr10 = toC10(L,Lerr,J)\n",
    "    A16_LCO10.append(L10)\n",
    "    A16_LCO10_err.append(Lerr10)\n",
    "A16_LCO10 = np.asarray(A16_LCO10)\n",
    "A16_LCO10_err = np.asarray(A16_LCO10_err)\n",
    "\n"
   ]
  },
  {
   "cell_type": "code",
   "execution_count": 390,
   "id": "a38a6f5d",
   "metadata": {},
   "outputs": [
    {
     "data": {
      "text/plain": [
       "[<matplotlib.lines.Line2D at 0x13ee21d90>]"
      ]
     },
     "execution_count": 390,
     "metadata": {},
     "output_type": "execute_result"
    },
    {
     "data": {
      "image/png": "[encoded data removed]",
      "text/plain": [
       "<Figure size 432x288 with 1 Axes>"
      ]
     },
     "metadata": {
      "needs_background": "light"
     },
     "output_type": "display_data"
    }
   ],
   "source": [
    "x0 = np.linspace(10,100)\n",
    "\n",
    "plt.plot(0.9*A16_LCO10,A16_LpCO*10,\".\")\n",
    "plt.plot(x0,x0,\"-\")"
   ]
  },
  {
   "cell_type": "code",
   "execution_count": 391,
   "id": "3e46a160",
   "metadata": {},
   "outputs": [],
   "source": [
    "#ID z ze SCO SCOe V Ve ICO ICOe LpCO LpCOerr \n",
    "#0  1  2  3   4   5  6  7   8    9     10\n",
    "\n",
    "H12_ID,H12_V,H12_Ve,H12_LpCO,H12_LpCOe = np.genfromtxt(\"Harris_2012\",\n",
    "                         usecols=(0,5,6,9,10),unpack=True,dtype=str)\n",
    "H12_V = np.array(H12_V,dtype=float)\n",
    "H12_Ve = np.array(H12_Ve,dtype=float)\n",
    "H12_LpCO = np.array(H12_LpCO,dtype=float)\n",
    "H12_LpCOe = np.array(H12_LpCOe,dtype=float)"
   ]
  },
  {
   "cell_type": "code",
   "execution_count": 398,
   "id": "f57405f4",
   "metadata": {},
   "outputs": [
    {
     "data": {
      "text/plain": [
       "<matplotlib.legend.Legend at 0x13fbdce20>"
      ]
     },
     "execution_count": 398,
     "metadata": {},
     "output_type": "execute_result"
    },
    {
     "data": {
      "image/png": "[encoded data removed]",
      "text/plain": [
       "<Figure size 720x576 with 1 Axes>"
      ]
     },
     "metadata": {
      "needs_background": "light"
     },
     "output_type": "display_data"
    }
   ],
   "source": [
    "\n",
    "x0 = np.linspace(80,2000)\n",
    "y0 = 10**5.4*x0**2/1e10\n",
    "\n",
    "\n",
    "plt.figure(figsize=(10,8))\n",
    "\n",
    "\n",
    "plt.errorbar(H12_V,H12_LpCO,xerr=H12_Ve,yerr=H12_LpCOe,fmt=\".\",label=\"Harris 2013\")\n",
    "plt.errorbar(B13_V,B13_LCO10,xerr=B13_V_e,yerr=B13_LCO10_err,fmt=\".\",label=\"Bothwell 2013\")\n",
    "plt.errorbar(C11_V,C11_LCO10,xerr=C11_Ve,yerr=C11_LCO10_err,fmt=\".\",label=\"Combes 2011\")\n",
    "plt.errorbar(C13_V,C13_LCO10,xerr=C13_Ve,yerr=C13_LCO10_err,fmt=\".\",label=\"Combes 2013\")\n",
    "\n",
    "\n",
    "plt.errorbar(A16_V,A16_LCO10,xerr=A16_Ve,yerr=A16_LCO10_err,fmt=\".\",label=\"Aravena 2016\",alpha=0.8)\n",
    "\n",
    "#plt.errorbar(A16_V,A16_LpCO*10,xerr=A16_Ve,yerr=A16_LpCOe*10,fmt=\".\",label=\"Aravena 2016\")\n",
    "\n",
    "plt.xscale(\"log\")\n",
    "plt.yscale(\"log\")\n",
    "\n",
    "plt.xlabel(r\"$\\Delta V$ (km/s)\",fontsize=16)\n",
    "plt.ylabel(r\"$L'_{CO(1-0)}$ ($10^{10}$K km s$^{-1}$ pc$^2$)\",fontsize=16)\n",
    "\n",
    "plt.plot(x0,y0,\"--\",color=\"black\")\n",
    "\n",
    "plt.ylim(0.2,150)\n",
    "\n",
    "plt.xlim(90,1500)\n",
    "\n",
    "plt.legend()"
   ]
  },
  {
   "cell_type": "code",
   "execution_count": null,
   "id": "76d63e68",
   "metadata": {},
   "outputs": [],
   "source": []
  },
  {
   "cell_type": "code",
   "execution_count": 393,
   "id": "073864d3",
   "metadata": {},
   "outputs": [
    {
     "data": {
      "text/plain": [
       "array([2.63, 7.93, 2.43, 2.85, 5.16, 2.  , 1.6 , 1.91, 2.06, 4.18, 4.29,\n",
       "       2.66, 1.58, 3.48, 1.65, 1.6 , 5.77])"
      ]
     },
     "execution_count": 393,
     "metadata": {},
     "output_type": "execute_result"
    }
   ],
   "source": [
    "A16_LpCO"
   ]
  },
  {
   "cell_type": "code",
   "execution_count": null,
   "id": "8d3f8cc4",
   "metadata": {},
   "outputs": [],
   "source": []
  },
  {
   "cell_type": "code",
   "execution_count": null,
   "id": "d33f7a7e",
   "metadata": {},
   "outputs": [],
   "source": []
  }
 ],
 "metadata": {
  "kernelspec": {
   "display_name": "Python 3 (ipykernel)",
   "language": "python",
   "name": "python3"
  },
  "language_info": {
   "codemirror_mode": {
    "name": "ipython",
    "version": 3
   },
   "file_extension": ".py",
   "mimetype": "text/x-python",
   "name": "python",
   "nbconvert_exporter": "python",
   "pygments_lexer": "ipython3",
   "version": "3.9.10"
  }
 },
 "nbformat": 4,
 "nbformat_minor": 5
}
