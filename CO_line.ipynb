{
 "cells": [
  {
   "cell_type": "code",
   "execution_count": 8,
   "id": "23151274",
   "metadata": {},
   "outputs": [],
   "source": [
    "# CO line conversions routines "
   ]
  },
  {
   "cell_type": "code",
   "execution_count": 9,
   "id": "671ff97d",
   "metadata": {},
   "outputs": [],
   "source": [
    "import numpy as np\n",
    "import matplotlib.pyplot as plt\n",
    "from uncertainties import ufloat\n",
    "\n",
    "from astropy.cosmology import FlatLambdaCDM\n",
    "import astropy.units as u"
   ]
  },
  {
   "cell_type": "code",
   "execution_count": 10,
   "id": "63bf1090",
   "metadata": {},
   "outputs": [],
   "source": [
    "cosmo = FlatLambdaCDM(H0=67.4 * u.km / u.s / u.Mpc, Tcmb0=2.725 * u.K, Om0=0.315)"
   ]
  },
  {
   "cell_type": "code",
   "execution_count": 11,
   "id": "6c149cbd",
   "metadata": {},
   "outputs": [],
   "source": [
    "# Table 4 from Bothwell\n",
    "\n",
    "J = np.array([2,3,4,5,6,7])\n",
    "\n",
    "\n",
    "\n",
    "r_J = np.array([0.84,0.52,0.41,0.32,0.21,0.18])\n",
    "r_J_err = np.array([0.13,0.09,0.07,0.05,0.04,0.04])\n",
    "\n",
    "invr_J = 1./r_J \n",
    "invr_J_err = 1/r_J * np.sqrt((r_J_err/r_J)**2)\n"
   ]
  },
  {
   "cell_type": "code",
   "execution_count": 12,
   "id": "5b714c39",
   "metadata": {},
   "outputs": [
    {
     "data": {
      "image/png": "[encoded data removed]",
      "text/plain": [
       "<Figure size 640x480 with 1 Axes>"
      ]
     },
     "metadata": {},
     "output_type": "display_data"
    }
   ],
   "source": [
    "plt.errorbar(J,invr_J*0.84,yerr=invr_J_err*0.84,fmt=\".\")\n",
    "#plt.errorbar(1,1,yerr=0,fmt=\".\")\n",
    "\n",
    "plt.ylabel(\"$S_{CO(J-(J-1))}$/$S_{CO(2-1)}$\",fontsize=16)\n",
    "plt.xlabel(\"J\",fontsize=16)\n",
    "\n",
    "plt.ylim(0.5,10)\n",
    "plt.yscale(\"log\")"
   ]
  },
  {
   "cell_type": "code",
   "execution_count": 13,
   "id": "5d74699b",
   "metadata": {},
   "outputs": [],
   "source": [
    "#Conversion from J-(J-1) to 1-0\n",
    "def toC10(J,S,S_err):\n",
    "    \"\"\"\n",
    "    Converts from a line flux J-(J-1) to 1-0 using\n",
    "    Bothwell et al. 2013 Table 4 (MNRAS 429 3047)\n",
    "    \n",
    "    J: CO upper line transition [2,3,4,5,6,7] (int)\n",
    "    S: CO line flux [Jy km/s] (float)\n",
    "    S_err: CO line flux uncertainty [Jy km/s](float)\n",
    "    \n",
    "    usage: for example to convert a line flux from\n",
    "    CO(3-2) that has flux 10 pm 1 (Jy km/s) we use \n",
    "    toC10(3,10,1)\n",
    "    \"\"\"\n",
    "    val = np.array([0.84,0.52,0.41,0.32,0.21,0.18])\n",
    "    err = np.array([0.13,0.09,0.07,0.05,0.04,0.04])\n",
    "    \n",
    "    S_c = val[J-2]*S\n",
    "    S_c_err = S_c*np.sqrt((S_err/S)**2+(err[J-2]/val[J-2])**2)\n",
    "    return S_c,S_c_err\n"
   ]
  },
  {
   "cell_type": "code",
   "execution_count": 15,
   "id": "716fb0fb",
   "metadata": {},
   "outputs": [],
   "source": [
    "def LpCO(I,nu,z):\n",
    "    \"\"\"\n",
    "    Calculates the Apparent CO line Luminosity from the line intensity, \n",
    "    frequency and redshift assuming a Planck Cosmology framework\n",
    "    \n",
    "    I: CO(1-0) line intensity [Jy km/s]\n",
    "    nu: Frequency [GHz]\n",
    "    z: redshift\n",
    "    \n",
    "    return: Apparent Luminosity of the CO emission line [K km/s pc^2]\n",
    "    \"\"\"\n",
    "    DL = cosmo.luminosity_distance(1+z).value\n",
    "    return 3.25e7*I*(nu**(-2))*(DL**2)*((1+z)**(-3))"
   ]
  },
  {
   "cell_type": "code",
   "execution_count": 16,
   "id": "53bac28d",
   "metadata": {},
   "outputs": [
    {
     "data": {
      "text/plain": [
       "26018.354552401575"
      ]
     },
     "execution_count": 16,
     "metadata": {},
     "output_type": "execute_result"
    }
   ],
   "source": [
    "cosmo.luminosity_distance(1+2).value "
   ]
  },
  {
   "cell_type": "code",
   "execution_count": null,
   "id": "98d1cb06",
   "metadata": {},
   "outputs": [],
   "source": []
  },
  {
   "cell_type": "code",
   "execution_count": 18,
   "id": "7302ab4e",
   "metadata": {},
   "outputs": [
    {
     "data": {
      "text/plain": [
       "8.422228173871058"
      ]
     },
     "execution_count": 18,
     "metadata": {},
     "output_type": "execute_result"
    }
   ],
   "source": [
    "LpCO(10,90,3)*1e-11"
   ]
  },
  {
   "cell_type": "code",
   "execution_count": null,
   "id": "e28f15b2",
   "metadata": {},
   "outputs": [],
   "source": []
  }
 ],
 "metadata": {
  "kernelspec": {
   "display_name": "Python 3 (ipykernel)",
   "language": "python",
   "name": "python3"
  },
  "language_info": {
   "codemirror_mode": {
    "name": "ipython",
    "version": 3
   },
   "file_extension": ".py",
   "mimetype": "text/x-python",
   "name": "python",
   "nbconvert_exporter": "python",
   "pygments_lexer": "ipython3",
   "version": "3.9.16"
  }
 },
 "nbformat": 4,
 "nbformat_minor": 5
}
